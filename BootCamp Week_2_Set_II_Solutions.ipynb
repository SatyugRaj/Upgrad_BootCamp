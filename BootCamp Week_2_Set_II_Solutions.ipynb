{
 "cells": [
  {
   "cell_type": "markdown",
   "id": "188fc0ca",
   "metadata": {},
   "source": [
    "🔶 Given a string, write a Python program to find the largest substring of uppercase characters and print the length of that substring. Check the sample inputs and outputs for a better understanding."
   ]
  },
  {
   "cell_type": "code",
   "execution_count": null,
   "id": "e1316793",
   "metadata": {},
   "outputs": [],
   "source": [
    "#Take input here\n",
    "test_str = input()\n",
    "#Write the code here\n",
    "m=[]\n",
    "count=0\n",
    "for i in test_str:\n",
    "    if i.isupper():\n",
    "        count+=1\n",
    "        m.append(count)\n",
    "    else:\n",
    "        count=0\n",
    "    \n",
    "print(max(m))"
   ]
  },
  {
   "cell_type": "markdown",
   "id": "52be0f2d",
   "metadata": {},
   "source": [
    "🔶 A class of students attempt an exam in two parts: ‘Aptitude’ and ‘Physics'. The marks of all the students are stored as a list of tuples, and each student’s marks (in Aptitude and Physics) are stored in each tuple. Your task is to write a Python program to sort the list of tuples in decreasing order of the Physics scores of the students."
   ]
  },
  {
   "cell_type": "code",
   "execution_count": null,
   "id": "20861708",
   "metadata": {},
   "outputs": [],
   "source": [
    "#Take Input\n",
    "import ast\n",
    "\n",
    "test_str= ast.literal_eval(input())\n",
    "#write your code here\n",
    "NewList=sorted(test_str,key=lambda x:x[1], reverse=True)\n",
    "print(NewList)"
   ]
  },
  {
   "cell_type": "markdown",
   "id": "02292984",
   "metadata": {},
   "source": [
    "🔶 Given an integer ‘n’, your task is to write a Python code to find whether ‘n’ is divisible by all its digits or not. If they divide the number, then the number ‘n’ is a happy number. Otherwise, it is a sad number.\n",
    "\n",
    "The number ‘n’ may be provided with commas. At first, you have to clean the number (by removing the commas involved) and then check whether the number is happy or sad."
   ]
  },
  {
   "cell_type": "code",
   "execution_count": null,
   "id": "ef99e7aa",
   "metadata": {},
   "outputs": [],
   "source": [
    "# Take input as a string\n",
    "n = input()\n",
    "x = n.replace(',','')\n",
    "flag = True\n",
    "# write your code here\n",
    "for i in x:\n",
    "    if int(i)!=0 and int(x)%int(i)==0:\n",
    "        flag = True\n",
    "    else:\n",
    "        flag = False\n",
    "        break\n",
    "\n",
    "if flag:\n",
    "    print('Happy Number')\n",
    "else:\n",
    "    print('Sad Number')"
   ]
  },
  {
   "cell_type": "markdown",
   "id": "f3b0ec23",
   "metadata": {},
   "source": [
    "# THANK YOU"
   ]
  }
 ],
 "metadata": {
  "kernelspec": {
   "display_name": "Python 3 (ipykernel)",
   "language": "python",
   "name": "python3"
  },
  "language_info": {
   "codemirror_mode": {
    "name": "ipython",
    "version": 3
   },
   "file_extension": ".py",
   "mimetype": "text/x-python",
   "name": "python",
   "nbconvert_exporter": "python",
   "pygments_lexer": "ipython3",
   "version": "3.9.7"
  }
 },
 "nbformat": 4,
 "nbformat_minor": 5
}
