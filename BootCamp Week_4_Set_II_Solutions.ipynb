{
 "cells": [
  {
   "cell_type": "markdown",
   "id": "83070e09",
   "metadata": {},
   "source": [
    "# 🐱‍🐉 Given a single positive integer 'n' greater than 2, create a NumPy array of size (n x n) will all zeros and ones such that the ones make a shape like 'Z'."
   ]
  },
  {
   "cell_type": "code",
   "execution_count": null,
   "id": "95e0a371",
   "metadata": {},
   "outputs": [],
   "source": [
    "# Taking the input\n",
    "n = int(input())\n",
    "\n",
    "# Importing the NumPy package\n",
    "import numpy as np \n",
    "\n",
    "#Creating an (n x n) array with data type as integer.\n",
    "arr=np.zeros((n,n), dtype=int)\n",
    "\n",
    "#Replacing the first row and the last row by 1\n",
    "arr[0]=np.ones(1, dtype=int)\n",
    "arr[n-1]=np.ones(1, dtype=int)\n",
    "#Finally replacing the required elements to form Z.\n",
    "for i in range(1, n):\n",
    "     arr[i][n-i-1] = 1\n",
    "print(arr)"
   ]
  },
  {
   "cell_type": "markdown",
   "id": "79efb2ed",
   "metadata": {},
   "source": [
    "# 🐱‍🐉 Given a 2D NumPy array, sort it by the 1st column. Print the final sorted array as a NumPy array only.\n"
   ]
  },
  {
   "cell_type": "markdown",
   "id": "c0d91605",
   "metadata": {},
   "source": [
    "Note: If two values in the 1st column are equal then the column in which the 2nd column value is lesser should come first. If the value in the second column is also the same then go to the third value and so on.\n"
   ]
  },
  {
   "cell_type": "code",
   "execution_count": null,
   "id": "6fefd2c9",
   "metadata": {},
   "outputs": [],
   "source": [
    "# Reading the input list\n",
    "import ast,sys\n",
    "input_str = sys.stdin.read()\n",
    "input_list = ast.literal_eval(input_str)\n",
    "\n",
    "# Import the NumPy package\n",
    "import numpy as np\n",
    "\n",
    "# Converting the list to a NumPy array\n",
    "n_array = np.array(input_list)\n",
    "\n",
    "# Sorting the array as required by using the argsort() method. Kindly refer google for details on argsort().\n",
    "for i in range(len(n_array[0, :])):\n",
    "    n_array = n_array[n_array[:,-1-i].argsort()]\n",
    "\n",
    "print(n_array) "
   ]
  }
 ],
 "metadata": {
  "kernelspec": {
   "display_name": "Python 3 (ipykernel)",
   "language": "python",
   "name": "python3"
  },
  "language_info": {
   "codemirror_mode": {
    "name": "ipython",
    "version": 3
   },
   "file_extension": ".py",
   "mimetype": "text/x-python",
   "name": "python",
   "nbconvert_exporter": "python",
   "pygments_lexer": "ipython3",
   "version": "3.9.12"
  }
 },
 "nbformat": 4,
 "nbformat_minor": 5
}
