{
 "cells": [
  {
   "cell_type": "markdown",
   "id": "0a790b80",
   "metadata": {},
   "source": [
    "# 🎁Given an nxn array, print only the elements that are greater than three as a 1D array.\n",
    "\n"
   ]
  },
  {
   "cell_type": "code",
   "execution_count": null,
   "id": "5f308c02",
   "metadata": {},
   "outputs": [],
   "source": [
    "import numpy as np\n",
    "import ast\n",
    "\n",
    "inp_list=ast.literal_eval(input())\n",
    "arr=np.array(inp_list)\n",
    "\n",
    "\n",
    "arr2=arr[arr > 3]\n",
    "print(arr2)"
   ]
  },
  {
   "cell_type": "markdown",
   "id": "bda29d3c",
   "metadata": {},
   "source": [
    "# 🎁Calculate the 60th percentile of the given NumPy array."
   ]
  },
  {
   "cell_type": "code",
   "execution_count": null,
   "id": "f93f5488",
   "metadata": {},
   "outputs": [],
   "source": [
    "import numpy as np\n",
    "import ast\n",
    "\n",
    "\n",
    "arr = np.array(ast.literal_eval(input()))\n",
    "\n",
    "\n",
    "arr2=np.percentile(arr, 60) #np.percentile directly computes the percentile of the mentioned array.\n",
    "print(round(arr2,2))  #Here round() function is used as the ques. asked to round to 2 decimal places, hence 2 is used after the array."
   ]
  },
  {
   "cell_type": "markdown",
   "id": "5ee7e5a8",
   "metadata": {},
   "source": [
    "# 🎁 Given a positive integer 'n', write a program that computes the mean, the standard deviation and the variance of the numbers starting from 0 to n-1, rounded off to two decimal places."
   ]
  },
  {
   "cell_type": "code",
   "execution_count": null,
   "id": "10d0c8ff",
   "metadata": {},
   "outputs": [],
   "source": [
    "import numpy as np\n",
    "n=int(input())\n",
    "\n",
    "#first we are converting the input into and array\n",
    "arr1=np.arange(n)\n",
    "\n",
    "#Now by using the built in functions we are compurting the values.\n",
    "m_ean=np.mean(arr1)\n",
    "S_D=np.std(arr1)\n",
    "var_iance=np.var(arr1)\n",
    "\n",
    "#Finally printing the values rounded to 2 decimal places.\n",
    "print(round(m_ean,2))\n",
    "print(round(S_D,2))\n",
    "print(round(var_iance,2))"
   ]
  }
 ],
 "metadata": {
  "kernelspec": {
   "display_name": "Python 3 (ipykernel)",
   "language": "python",
   "name": "python3"
  },
  "language_info": {
   "codemirror_mode": {
    "name": "ipython",
    "version": 3
   },
   "file_extension": ".py",
   "mimetype": "text/x-python",
   "name": "python",
   "nbconvert_exporter": "python",
   "pygments_lexer": "ipython3",
   "version": "3.9.12"
  }
 },
 "nbformat": 4,
 "nbformat_minor": 5
}
