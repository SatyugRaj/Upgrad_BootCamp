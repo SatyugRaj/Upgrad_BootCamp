{
 "cells": [
  {
   "cell_type": "markdown",
   "id": "f83a8935",
   "metadata": {},
   "source": [
    "🔴 You are provided with a dictionary containing the names of different football clubs as keys and the name of the main player of the corresponding team as values. When the main player of a team retires, one of their teammates steps up to fill in their role as the main player.\n",
    "\n",
    "\n",
    "You’re also provided with a list which contains the names of the football clubs for which the current main players are retiring and the names of the corresponding new main player. Your task is to update the values in the original dictionary with the names of the new main players."
   ]
  },
  {
   "cell_type": "code",
   "execution_count": null,
   "id": "6d3440fa",
   "metadata": {},
   "outputs": [],
   "source": [
    "#Take input here\n",
    "#we will take input using ast sys\n",
    "import ast\n",
    "#reading the input dictionary\n",
    "input_dictionary = input()\n",
    "convert_dictionary = ast.literal_eval(input_dictionary)\n",
    "\n",
    "#reading the input list\n",
    "input_list = input()\n",
    "convert_list = ast.literal_eval(input_list)\n",
    "#Write code here\n",
    "m=list(convert_dictionary.keys())\n",
    "for i in m:\n",
    "    for j in convert_list:\n",
    "        if i==j[0]:\n",
    "            convert_dictionary[i]=j[1]\n",
    "\n",
    "print(convert_dictionary)"
   ]
  },
  {
   "cell_type": "markdown",
   "id": "32975b27",
   "metadata": {},
   "source": [
    "🔴Suppose you are working as a Marketing Lead in a company and you want to recruit new employees in your team (which already consists of 10 members) to carry out the company’s major project. You select the employees based on five parameters: A, B, C, D and E. The value of each parameter is represented on a scale of 1 to 10. The present average value of these parameters for your team is given to you in a list (in the same order). You recruit a person only if their scores do not reduce the average score of more than two parameters of your team. If they are recruited, print the output as ‘Selected’. If not, print the output as ‘Rejected’."
   ]
  },
  {
   "cell_type": "code",
   "execution_count": null,
   "id": "32fc478c",
   "metadata": {},
   "outputs": [],
   "source": [
    "#Take input from here\n",
    "import ast\n",
    "\n",
    "team_list = ast.literal_eval(input())\n",
    "emp_list = ast.literal_eval(input())\n",
    "#Write the code here\n",
    "count=0\n",
    "for i in team_list:\n",
    "    for j in emp_list:\n",
    "        if float(j)>=float(i):\n",
    "            count+=1\n",
    "if count>=3:\n",
    "    print('Selected')\n",
    "else:\n",
    "    print('Rejected')"
   ]
  },
  {
   "cell_type": "markdown",
   "id": "edf54362",
   "metadata": {},
   "source": [
    "🔴Write a python code to merge two dictionaries into a single dictionary."
   ]
  },
  {
   "cell_type": "code",
   "execution_count": null,
   "id": "50ab6462",
   "metadata": {},
   "outputs": [],
   "source": [
    "import ast\n",
    "\n",
    "#take input of two dictionaries\n",
    "input_dictionary_1 = input()\n",
    "convert_D_1 = ast.literal_eval(input_dictionary_1)\n",
    "\n",
    "input_dictionary_2 = input()\n",
    "convert_D_2 = ast.literal_eval(input_dictionary_2)\n",
    "#Write the code here\n",
    "Final_Dictionary=convert_D_1.update(convert_D_2)\n",
    "print(convert_D_1)"
   ]
  },
  {
   "cell_type": "markdown",
   "id": "4fc9dd46",
   "metadata": {},
   "source": [
    "⭕️ Another way to do this 3rd Question is as below :"
   ]
  },
  {
   "cell_type": "code",
   "execution_count": null,
   "id": "b4bba914",
   "metadata": {},
   "outputs": [],
   "source": [
    "import ast\n",
    "\n",
    "#take input of two dictionaries\n",
    "input_dictionary_1 = input()\n",
    "convert_D_1 = ast.literal_eval(input_dictionary_1)\n",
    "\n",
    "input_dictionary_2 = input()\n",
    "convert_D_2 = ast.literal_eval(input_dictionary_2)\n",
    "#Write the code here\n",
    "Final_Dictionary=convert_D_1 | convert_D_2\n",
    "print(Final_Dictionary)"
   ]
  }
 ],
 "metadata": {
  "kernelspec": {
   "display_name": "Python 3 (ipykernel)",
   "language": "python",
   "name": "python3"
  },
  "language_info": {
   "codemirror_mode": {
    "name": "ipython",
    "version": 3
   },
   "file_extension": ".py",
   "mimetype": "text/x-python",
   "name": "python",
   "nbconvert_exporter": "python",
   "pygments_lexer": "ipython3",
   "version": "3.9.7"
  }
 },
 "nbformat": 4,
 "nbformat_minor": 5
}
