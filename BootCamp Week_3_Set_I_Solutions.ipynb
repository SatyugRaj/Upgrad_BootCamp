{
 "cells": [
  {
   "cell_type": "markdown",
   "id": "2f8acd5e",
   "metadata": {},
   "source": [
    "👉🏽 Given a list of integers, write a python code to find all the even numbers present in the list."
   ]
  },
  {
   "cell_type": "code",
   "execution_count": null,
   "id": "1d80ad59",
   "metadata": {},
   "outputs": [],
   "source": [
    "#take input here using ast sys\n",
    "import ast\n",
    "input_list=ast.literal_eval(input())\n",
    "# write the code here\n",
    "\n",
    "#Here below we are directly applying the condition to check for EVEN number directly to the whole input_list by using LAMBDA function.\n",
    "#And then we use FILTER function to filter only the elements that satisfy the lambda function condition.\n",
    "result=list(filter(lambda x : x % 2==0,input_list))\n",
    "print(result)"
   ]
  },
  {
   "cell_type": "markdown",
   "id": "b6548b96",
   "metadata": {},
   "source": [
    "# 👉🏽 Triple the list elements\n",
    "    Description\n",
    "    Given a list of integers, write a python code to triple all the values in the list."
   ]
  },
  {
   "cell_type": "code",
   "execution_count": null,
   "id": "4f6d4342",
   "metadata": {},
   "outputs": [],
   "source": [
    "#take input here using ast sys\n",
    "import ast\n",
    "input_list=ast.literal_eval(input())\n",
    "# write the code here\n",
    "\n",
    "#Here also the function logic is the same as explained above.\n",
    "# The only catch point is using MAP, which applies this function(lambda x:x*3) to all the elements of the list directly\n",
    "result=list(map(lambda x:x*3 , input_list))\n",
    "print(result)"
   ]
  },
  {
   "cell_type": "markdown",
   "id": "2f12d421",
   "metadata": {},
   "source": [
    "👉🏽A company stores the names of their employees in a list. They want to encrypt the names so that no one can read them and the data stays safe. One of the steps in encrypting is to reverse each name in the list and convert them to uppercase and your task is to write a Python code to execute the same."
   ]
  },
  {
   "cell_type": "code",
   "execution_count": null,
   "id": "0d9260db",
   "metadata": {},
   "outputs": [],
   "source": [
    "#take input here using ast sys\n",
    "import ast\n",
    "input_list=ast.literal_eval(input())\n",
    "# write the code here\n",
    "\n",
    "# Here as per the question first we are reversing each elements of the input list and storing it in a new list.\n",
    "# A For loop is ussed to iterate every element of the list and reverse it 1 by 1\n",
    "rev_list=[i[::-1] for i in input_list]\n",
    "\n",
    "# Here by usging MAP function we are applying function condition(which makes the list emelemt to uppercase) to the whole list.\n",
    "result=list(map(lambda x:x.upper(),rev_list))\n",
    "print(result)"
   ]
  }
 ],
 "metadata": {
  "kernelspec": {
   "display_name": "Python 3 (ipykernel)",
   "language": "python",
   "name": "python3"
  },
  "language_info": {
   "codemirror_mode": {
    "name": "ipython",
    "version": 3
   },
   "file_extension": ".py",
   "mimetype": "text/x-python",
   "name": "python",
   "nbconvert_exporter": "python",
   "pygments_lexer": "ipython3",
   "version": "3.9.7"
  }
 },
 "nbformat": 4,
 "nbformat_minor": 5
}
