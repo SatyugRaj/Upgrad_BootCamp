{
 "cells": [
  {
   "cell_type": "markdown",
   "id": "5669e64f",
   "metadata": {},
   "source": [
    "# Suppose you want to know the total score of the Indian cricket team in a given match. To do so, your task is to find the sum of all the scores of the Indian team players. The scores are provided as a list, with each element as an individual score of the players. Also, there is a condition that if the number of elements in the list is more than 11, then it is an invalid input and the output should be -1."
   ]
  },
  {
   "cell_type": "code",
   "execution_count": null,
   "id": "33b2d671",
   "metadata": {},
   "outputs": [],
   "source": [
    "import ast\n",
    "\n",
    "#Take input \n",
    "runs=ast.literal_eval(input())\n",
    "#Write your code here\n",
    "if len(runs)>11:\n",
    "    print('-1')\n",
    "else:\n",
    "    print(sum(runs))"
   ]
  },
  {
   "cell_type": "markdown",
   "id": "4b1dbbe2",
   "metadata": {},
   "source": [
    "# Given a list of strings, write a program to find the number of strings whose length is greater than or equal to K, where K is a positive integer.\n",
    "\n"
   ]
  },
  {
   "cell_type": "code",
   "execution_count": null,
   "id": "00d3a9b5",
   "metadata": {},
   "outputs": [],
   "source": [
    "#Take input here using ast sys\n",
    "import ast\n",
    "string = ast.literal_eval(input())\n",
    "k = int(input())\n",
    "#start writing your code here\n",
    "count = 0\n",
    "\n",
    "for i in string:\n",
    "    if len(i)>=k:\n",
    "        count+=1\n",
    "print(count)"
   ]
  },
  {
   "cell_type": "markdown",
   "id": "d68c8c35",
   "metadata": {},
   "source": [
    "# Given a list of strings, increment the value of the numeric strings by 'k’. "
   ]
  },
  {
   "cell_type": "code",
   "execution_count": null,
   "id": "ffbbda70",
   "metadata": {},
   "outputs": [],
   "source": [
    "import ast\n",
    "input_list = ast.literal_eval(input())\n",
    "K = int(input())\n",
    "#write the code\n",
    "for i in input_list:\n",
    "    if i.isdigit():\n",
    "        input_list[input_list.index(i)]=str(int(i)+int(K))\n",
    "print(input_list)"
   ]
  },
  {
   "cell_type": "markdown",
   "id": "440cab90",
   "metadata": {},
   "source": [
    "# Given a list of strings and an integer K, write a python code to print all the elements from the K th position till the end of the list."
   ]
  },
  {
   "cell_type": "code",
   "execution_count": null,
   "id": "7ffdb85f",
   "metadata": {},
   "outputs": [],
   "source": [
    "#read the input using the ast sys\n",
    "import ast\n",
    "input_list = ast.literal_eval(input())\n",
    "K=int(input())\n",
    "#Write the code here\n",
    "if len(input_list) >= K:\n",
    "    print(input_list[K-1:len(input_list)])"
   ]
  }
 ],
 "metadata": {
  "kernelspec": {
   "display_name": "Python 3 (ipykernel)",
   "language": "python",
   "name": "python3"
  },
  "language_info": {
   "codemirror_mode": {
    "name": "ipython",
    "version": 3
   },
   "file_extension": ".py",
   "mimetype": "text/x-python",
   "name": "python",
   "nbconvert_exporter": "python",
   "pygments_lexer": "ipython3",
   "version": "3.9.7"
  }
 },
 "nbformat": 4,
 "nbformat_minor": 5
}
