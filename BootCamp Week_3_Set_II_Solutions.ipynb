{
 "cells": [
  {
   "cell_type": "markdown",
   "id": "e5446392",
   "metadata": {},
   "source": [
    "🐍 Given is a list consisting of dictionary elements. Each dictionary contains the name of a student as a first item and his/her corresponding rank as the second item. Your task is to write a Python program to print the list (dictionary elements) in a sorted ascending order according to student ranks. In case the rank of two or more students are the same, then sort them in ascending order (alphabetically) according to their names."
   ]
  },
  {
   "cell_type": "code",
   "execution_count": null,
   "id": "e5a4faa7",
   "metadata": {},
   "outputs": [],
   "source": [
    "#take input here using ast sys\n",
    "import ast\n",
    "input_list=ast.literal_eval(input())\n",
    "# write the code here\n",
    "\n",
    "#Here SORTED is used to store a sorted list into a new list.\n",
    "\n",
    "#Now since we had to sort as per 2 parameters acc. to the ques. So, we use 'key' to define\n",
    "# the parameter on which sorting should be done.\n",
    "\n",
    "#The function in the 'key' simply means that to take an element x and then get the values of the specified key in the same order\n",
    "# as specified. And then finally the sorting is performed.\n",
    "\n",
    "result=sorted(input_list,key=(lambda x :(x['rank'],x['name'])))\n",
    "print(result)"
   ]
  },
  {
   "cell_type": "markdown",
   "id": "8abc6519",
   "metadata": {},
   "source": [
    "🐍In ‘ABC’ university, company ‘XYZ’ conducted three rounds of interviews to recruit students. Those students who passed all the rounds were selected. The company released the results for each round in a separate list. Your task is to write a Python code to display the list of the students who passed all the three rounds."
   ]
  },
  {
   "cell_type": "code",
   "execution_count": null,
   "id": "f8efe112",
   "metadata": {},
   "outputs": [],
   "source": [
    "#take input here using ast sys\n",
    "import ast\n",
    "round_1 = ast.literal_eval(input())\n",
    "round_2 = ast.literal_eval(input())\n",
    "round_3 = ast.literal_eval(input())\n",
    "R1,R2,R3 = [],[],[]\n",
    "# write the code here\n",
    "\n",
    "#Here we are making all the items in the input list into lower case.\n",
    "R1 = list(map(lambda x : x.lower(), round_1))\n",
    "R2 = list(map(lambda x : x.lower(), round_2))\n",
    "R3 = list(map(lambda x : x.lower(), round_3))\n",
    "# let us take an empty list to store our new values.\n",
    "\n",
    "result_list=[]\n",
    "\n",
    "for j in R1:\n",
    "    if j in R2 and j in R3:\n",
    "        result_list.append(j)\n",
    "#the above for condition checks if an item from R1 is present both in R2 and R3 or not\n",
    "print(result_list)  "
   ]
  },
  {
   "cell_type": "markdown",
   "id": "20f55dca",
   "metadata": {},
   "source": [
    "🐍A teacher decided to divide the class into groups to conduct fun activities. Each group had one or more members in it. The data is provided in the form of a list with dictionary elements. The key and value in each dictionary correspond to the student’s roll number and his/her name.\n",
    "\n",
    "In case the length of two or more dictionaries are the same, then the dictionary that occurs first in the input list will also appear first among the other dictionaries of the same length.\n",
    "\n",
    "Your task is to write a Python program to sort the list in descending order with respect to the group strength.﻿"
   ]
  },
  {
   "cell_type": "code",
   "execution_count": null,
   "id": "bf6c4d87",
   "metadata": {},
   "outputs": [],
   "source": [
    "#take input here using ast sys\n",
    "import ast\n",
    "input_list=ast.literal_eval(input())\n",
    "# write the code here\n",
    "\n",
    "#here we used len function to take the lenght of 1 item in the list i.e a dictionary\n",
    "#in this example and then by reverse=true we sorted it in descending order\n",
    "\n",
    "result=sorted(input_list, key = lambda x : len(x), reverse = True)\n",
    "\n",
    "print(result)"
   ]
  }
 ],
 "metadata": {
  "kernelspec": {
   "display_name": "Python 3 (ipykernel)",
   "language": "python",
   "name": "python3"
  },
  "language_info": {
   "codemirror_mode": {
    "name": "ipython",
    "version": 3
   },
   "file_extension": ".py",
   "mimetype": "text/x-python",
   "name": "python",
   "nbconvert_exporter": "python",
   "pygments_lexer": "ipython3",
   "version": "3.9.7"
  }
 },
 "nbformat": 4,
 "nbformat_minor": 5
}
